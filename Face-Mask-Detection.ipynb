{
 "cells": [
  {
   "cell_type": "code",
   "execution_count": 2,
   "metadata": {},
   "outputs": [],
   "source": [
    "from tensorflow.keras.preprocessing.image import ImageDataGenerator\n",
    "from tensorflow.keras.applications import MobileNetV2\n",
    "from tensorflow.keras.layers import AveragePooling2D\n",
    "from tensorflow.keras.layers import Dropout\n",
    "from tensorflow.keras.layers import Flatten\n",
    "from tensorflow.keras.layers import Dense\n",
    "from tensorflow.keras.layers import Input\n",
    "from tensorflow.keras.models import Model\n",
    "from tensorflow.keras.optimizers import Adam\n",
    "from tensorflow.keras.applications.mobilenet_v2 import preprocess_input\n",
    "from tensorflow.keras.preprocessing.image import img_to_array\n",
    "from tensorflow.keras.preprocessing.image import load_img\n",
    "from tensorflow.keras.utils import to_categorical\n",
    "from sklearn.preprocessing import LabelBinarizer\n",
    "from sklearn.model_selection import train_test_split\n",
    "from sklearn.metrics import classification_report\n",
    "import matplotlib.pyplot as plt\n",
    "import numpy as np\n",
    "import os"
   ]
  },
  {
   "cell_type": "code",
   "execution_count": 3,
   "metadata": {},
   "outputs": [],
   "source": [
    "DIRECTORY = r\"C:\\Users\\ANURAG DHAWAN\\Desktop\\PROJECT\\Datasets\\dataset\"\n",
    "CATEGORIES = [\"with_mask\", \"without_mask\"]"
   ]
  },
  {
   "cell_type": "code",
   "execution_count": 4,
   "metadata": {},
   "outputs": [
    {
     "name": "stderr",
     "output_type": "stream",
     "text": [
      "c:\\users\\anurag dhawan\\appdata\\local\\programs\\python\\python38\\lib\\site-packages\\PIL\\Image.py:959: UserWarning: Palette images with Transparency expressed in bytes should be converted to RGBA images\n",
      "  warnings.warn(\n"
     ]
    }
   ],
   "source": [
    "data = []\n",
    "labels = []\n",
    "\n",
    "for category in CATEGORIES:\n",
    "    path = os.path.join(DIRECTORY, category)\n",
    "    for img in os.listdir(path):\n",
    "            img_path = os.path.join(path, img)\n",
    "            image = load_img(img_path, target_size=(224, 224))\n",
    "            image = img_to_array(image)\n",
    "            image = preprocess_input(image)\n",
    "\n",
    "            data.append(image)\n",
    "            labels.append(category)"
   ]
  },
  {
   "cell_type": "code",
   "execution_count": 6,
   "metadata": {},
   "outputs": [
    {
     "name": "stdout",
     "output_type": "stream",
     "text": [
      "[array([[[-0.45098037, -0.49019605, -0.44313723],\n",
      "        [-0.45098037, -0.49019605, -0.44313723],\n",
      "        [-0.45098037, -0.49019605, -0.44313723],\n",
      "        ...,\n",
      "        [-0.41176468, -0.62352943, -0.75686276],\n",
      "        [-0.41176468, -0.62352943, -0.75686276],\n",
      "        [-0.41176468, -0.62352943, -0.75686276]],\n",
      "\n",
      "       [[-0.45098037, -0.49019605, -0.44313723],\n",
      "        [-0.45098037, -0.49019605, -0.44313723],\n",
      "        [-0.45098037, -0.49019605, -0.44313723],\n",
      "        ...,\n",
      "        [-0.41176468, -0.62352943, -0.75686276],\n",
      "        [-0.41176468, -0.62352943, -0.75686276],\n",
      "        [-0.41176468, -0.62352943, -0.75686276]],\n",
      "\n",
      "       [[-0.3960784 , -0.45098037, -0.3960784 ],\n",
      "        [-0.3960784 , -0.45098037, -0.3960784 ],\n",
      "        [-0.3960784 , -0.45098037, -0.3960784 ],\n",
      "        ...,\n",
      "        [-0.45098037, -0.62352943, -0.8039216 ],\n",
      "        [-0.45098037, -0.62352943, -0.8039216 ],\n",
      "        [-0.45098037, -0.62352943, -0.8039216 ]],\n",
      "\n",
      "       ...,\n",
      "\n",
      "       [[-0.46666664, -0.67058825, -0.8039216 ],\n",
      "        [-0.46666664, -0.67058825, -0.8039216 ],\n",
      "        [-0.46666664, -0.67058825, -0.8039216 ],\n",
      "        ...,\n",
      "        [-0.3490196 , -0.52156866, -0.6313726 ],\n",
      "        [-0.3490196 , -0.52156866, -0.6313726 ],\n",
      "        [-0.3490196 , -0.52156866, -0.6313726 ]],\n",
      "\n",
      "       [[-0.45098037, -0.6784314 , -0.8039216 ],\n",
      "        [-0.45098037, -0.6784314 , -0.8039216 ],\n",
      "        [-0.45098037, -0.6784314 , -0.8039216 ],\n",
      "        ...,\n",
      "        [-0.34117645, -0.54509807, -0.64705884],\n",
      "        [-0.34117645, -0.54509807, -0.64705884],\n",
      "        [-0.34117645, -0.54509807, -0.64705884]],\n",
      "\n",
      "       [[-0.45098037, -0.6784314 , -0.8039216 ],\n",
      "        [-0.45098037, -0.6784314 , -0.8039216 ],\n",
      "        [-0.45098037, -0.6784314 , -0.8039216 ],\n",
      "        ...,\n",
      "        [-0.34117645, -0.54509807, -0.64705884],\n",
      "        [-0.34117645, -0.54509807, -0.64705884],\n",
      "        [-0.34117645, -0.54509807, -0.64705884]]], dtype=float32), array([[[ 0.32549024,  0.30196083,  0.24705887],\n",
      "        [ 0.32549024,  0.30196083,  0.24705887],\n",
      "        [ 0.34901965,  0.32549024,  0.27058828],\n",
      "        ...,\n",
      "        [ 0.35686278,  0.2941177 ,  0.27058828],\n",
      "        [ 0.39607847,  0.33333337,  0.30980396],\n",
      "        [ 0.39607847,  0.33333337,  0.30980396]],\n",
      "\n",
      "       [[ 0.32549024,  0.30196083,  0.24705887],\n",
      "        [ 0.32549024,  0.30196083,  0.24705887],\n",
      "        [ 0.34901965,  0.32549024,  0.27058828],\n",
      "        ...,\n",
      "        [ 0.35686278,  0.2941177 ,  0.27058828],\n",
      "        [ 0.39607847,  0.33333337,  0.30980396],\n",
      "        [ 0.39607847,  0.33333337,  0.30980396]],\n",
      "\n",
      "       [[ 0.3176471 ,  0.2941177 ,  0.23921573],\n",
      "        [ 0.3176471 ,  0.2941177 ,  0.23921573],\n",
      "        [ 0.3411765 ,  0.3176471 ,  0.26274514],\n",
      "        ...,\n",
      "        [ 0.34901965,  0.28627455,  0.26274514],\n",
      "        [ 0.37254906,  0.30980396,  0.28627455],\n",
      "        [ 0.37254906,  0.30980396,  0.28627455]],\n",
      "\n",
      "       ...,\n",
      "\n",
      "       [[-0.45098037, -0.47450978, -0.41960782],\n",
      "        [-0.45098037, -0.47450978, -0.41960782],\n",
      "        [-0.4823529 , -0.5058824 , -0.45098037],\n",
      "        ...,\n",
      "        [ 0.082353  ,  0.04313731,  0.09019613],\n",
      "        [ 0.10588241,  0.06666672,  0.11372554],\n",
      "        [ 0.10588241,  0.06666672,  0.11372554]],\n",
      "\n",
      "       [[-0.56078434, -0.58431375, -0.5294118 ],\n",
      "        [-0.56078434, -0.58431375, -0.5294118 ],\n",
      "        [-0.6156863 , -0.6392157 , -0.58431375],\n",
      "        ...,\n",
      "        [ 0.09803927,  0.05882359,  0.10588241],\n",
      "        [ 0.11372554,  0.07450986,  0.12156868],\n",
      "        [ 0.11372554,  0.07450986,  0.12156868]],\n",
      "\n",
      "       [[-0.56078434, -0.58431375, -0.5294118 ],\n",
      "        [-0.56078434, -0.58431375, -0.5294118 ],\n",
      "        [-0.6156863 , -0.6392157 , -0.58431375],\n",
      "        ...,\n",
      "        [ 0.09803927,  0.05882359,  0.10588241],\n",
      "        [ 0.11372554,  0.07450986,  0.12156868],\n",
      "        [ 0.11372554,  0.07450986,  0.12156868]]], dtype=float32), array([[[-0.41176468, -0.40392154, -0.38823527],\n",
      "        [-0.41176468, -0.40392154, -0.38823527],\n",
      "        [-0.52156866, -0.5137255 , -0.4980392 ],\n",
      "        ...,\n",
      "        [-0.67058825, -0.6392157 , -0.6313726 ],\n",
      "        [-0.6       , -0.5686275 , -0.56078434],\n",
      "        [-0.6       , -0.5686275 , -0.56078434]],\n",
      "\n",
      "       [[-0.41176468, -0.40392154, -0.38823527],\n",
      "        [-0.41176468, -0.40392154, -0.38823527],\n",
      "        [-0.52156866, -0.5137255 , -0.4980392 ],\n",
      "        ...,\n",
      "        [-0.67058825, -0.6392157 , -0.6313726 ],\n",
      "        [-0.6       , -0.5686275 , -0.56078434],\n",
      "        [-0.6       , -0.5686275 , -0.56078434]],\n",
      "\n",
      "       [[-0.41960782, -0.41176468, -0.3960784 ],\n",
      "        [-0.41960782, -0.41176468, -0.3960784 ],\n",
      "        [-0.40392154, -0.3960784 , -0.38039213],\n",
      "        ...,\n",
      "        [-0.58431375, -0.5529412 , -0.54509807],\n",
      "        [-0.54509807, -0.5137255 , -0.5058824 ],\n",
      "        [-0.54509807, -0.5137255 , -0.5058824 ]],\n",
      "\n",
      "       ...,\n",
      "\n",
      "       [[-0.4352941 , -0.40392154, -0.3960784 ],\n",
      "        [-0.4352941 , -0.40392154, -0.3960784 ],\n",
      "        [-0.4980392 , -0.46666664, -0.4588235 ],\n",
      "        ...,\n",
      "        [-0.6862745 , -0.6862745 , -0.62352943],\n",
      "        [-0.7490196 , -0.7490196 , -0.6862745 ],\n",
      "        [-0.7490196 , -0.7490196 , -0.6862745 ]],\n",
      "\n",
      "       [[-0.41176468, -0.38039213, -0.372549  ],\n",
      "        [-0.41176468, -0.38039213, -0.372549  ],\n",
      "        [-0.52156866, -0.49019605, -0.4823529 ],\n",
      "        ...,\n",
      "        [-0.7254902 , -0.7254902 , -0.6627451 ],\n",
      "        [-0.7490196 , -0.7490196 , -0.6862745 ],\n",
      "        [-0.7490196 , -0.7490196 , -0.6862745 ]],\n",
      "\n",
      "       [[-0.41176468, -0.38039213, -0.372549  ],\n",
      "        [-0.41176468, -0.38039213, -0.372549  ],\n",
      "        [-0.52156866, -0.49019605, -0.4823529 ],\n",
      "        ...,\n",
      "        [-0.7254902 , -0.7254902 , -0.6627451 ],\n",
      "        [-0.7490196 , -0.7490196 , -0.6862745 ],\n",
      "        [-0.7490196 , -0.7490196 , -0.6862745 ]]], dtype=float32), array([[[-0.92941177, -0.94509804, -0.92156863],\n",
      "        [-0.92941177, -0.94509804, -0.92156863],\n",
      "        [-0.92156863, -0.9372549 , -0.9137255 ],\n",
      "        ...,\n",
      "        [-0.9843137 , -0.96862745, -0.9764706 ],\n",
      "        [-0.9843137 , -0.96862745, -0.9764706 ],\n",
      "        [-0.9843137 , -0.96862745, -0.9764706 ]],\n",
      "\n",
      "       [[-0.92941177, -0.94509804, -0.92156863],\n",
      "        [-0.92941177, -0.94509804, -0.92156863],\n",
      "        [-0.92941177, -0.94509804, -0.92156863],\n",
      "        ...,\n",
      "        [-0.9843137 , -0.96862745, -0.9764706 ],\n",
      "        [-0.9843137 , -0.96862745, -0.9764706 ],\n",
      "        [-0.9843137 , -0.96862745, -0.9764706 ]],\n",
      "\n",
      "       [[-0.94509804, -0.94509804, -0.92941177],\n",
      "        [-0.94509804, -0.94509804, -0.92941177],\n",
      "        [-0.92156863, -0.92156863, -0.90588236],\n",
      "        ...,\n",
      "        [-0.9843137 , -0.96862745, -0.9764706 ],\n",
      "        [-0.9843137 , -0.96862745, -0.9764706 ],\n",
      "        [-0.9843137 , -0.96862745, -0.9764706 ]],\n",
      "\n",
      "       ...,\n",
      "\n",
      "       [[-0.9843137 , -0.9529412 , -0.94509804],\n",
      "        [-0.9843137 , -0.9529412 , -0.94509804],\n",
      "        [-0.9843137 , -0.9529412 , -0.94509804],\n",
      "        ...,\n",
      "        [-0.9764706 , -0.9843137 , -0.9372549 ],\n",
      "        [-0.9764706 , -0.9843137 , -0.9372549 ],\n",
      "        [-0.9764706 , -0.9843137 , -0.9372549 ]],\n",
      "\n",
      "       [[-0.9843137 , -0.9529412 , -0.94509804],\n",
      "        [-0.9843137 , -0.9529412 , -0.94509804],\n",
      "        [-0.9843137 , -0.9529412 , -0.94509804],\n",
      "        ...,\n",
      "        [-0.9764706 , -0.9764706 , -0.9137255 ],\n",
      "        [-0.9764706 , -0.9764706 , -0.9137255 ],\n",
      "        [-0.9764706 , -0.9764706 , -0.9137255 ]],\n",
      "\n",
      "       [[-0.9843137 , -0.9529412 , -0.94509804],\n",
      "        [-0.9843137 , -0.9529412 , -0.94509804],\n",
      "        [-0.9843137 , -0.9529412 , -0.94509804],\n",
      "        ...,\n",
      "        [-0.9764706 , -0.9764706 , -0.9137255 ],\n",
      "        [-0.9764706 , -0.9764706 , -0.8980392 ],\n",
      "        [-0.9764706 , -0.9764706 , -0.8980392 ]]], dtype=float32), array([[[-0.654902  , -0.6156863 , -0.58431375],\n",
      "        [-0.654902  , -0.6156863 , -0.58431375],\n",
      "        [-0.6627451 , -0.62352943, -0.5921569 ],\n",
      "        ...,\n",
      "        [ 0.9529412 ,  0.9529412 ,  0.9529412 ],\n",
      "        [ 0.9607843 ,  0.9607843 ,  0.9607843 ],\n",
      "        [ 0.9607843 ,  0.9607843 ,  0.9607843 ]],\n",
      "\n",
      "       [[-0.64705884, -0.60784316, -0.56078434],\n",
      "        [-0.64705884, -0.60784316, -0.56078434],\n",
      "        [-0.654902  , -0.6156863 , -0.58431375],\n",
      "        ...,\n",
      "        [ 0.94509804,  0.94509804,  0.94509804],\n",
      "        [ 0.9607843 ,  0.9607843 ,  0.9607843 ],\n",
      "        [ 0.9607843 ,  0.9607843 ,  0.9607843 ]],\n",
      "\n",
      "       [[-0.64705884, -0.60784316, -0.56078434],\n",
      "        [-0.64705884, -0.60784316, -0.56078434],\n",
      "        [-0.654902  , -0.6156863 , -0.58431375],\n",
      "        ...,\n",
      "        [ 0.94509804,  0.94509804,  0.94509804],\n",
      "        [ 0.9607843 ,  0.9607843 ,  0.9607843 ],\n",
      "        [ 0.9607843 ,  0.9607843 ,  0.9607843 ]],\n",
      "\n",
      "       ...,\n",
      "\n",
      "       [[ 0.20000005,  0.07450986, -0.02745098],\n",
      "        [ 0.20000005,  0.07450986, -0.02745098],\n",
      "        [ 0.1686275 ,  0.04313731, -0.0745098 ],\n",
      "        ...,\n",
      "        [ 0.92941177,  0.94509804,  0.9372549 ],\n",
      "        [ 0.92941177,  0.94509804,  0.9372549 ],\n",
      "        [ 0.92941177,  0.94509804,  0.9372549 ]],\n",
      "\n",
      "       [[ 0.20000005,  0.07450986, -0.02745098],\n",
      "        [ 0.20000005,  0.07450986, -0.02745098],\n",
      "        [ 0.1686275 ,  0.04313731, -0.0745098 ],\n",
      "        ...,\n",
      "        [ 0.92941177,  0.94509804,  0.9372549 ],\n",
      "        [ 0.92941177,  0.94509804,  0.9372549 ],\n",
      "        [ 0.92941177,  0.94509804,  0.9372549 ]],\n",
      "\n",
      "       [[ 0.20000005,  0.07450986, -0.02745098],\n",
      "        [ 0.20000005,  0.07450986, -0.02745098],\n",
      "        [ 0.16078436,  0.03529418, -0.08235294],\n",
      "        ...,\n",
      "        [ 0.9137255 ,  0.94509804,  0.9372549 ],\n",
      "        [ 0.9137255 ,  0.94509804,  0.9372549 ],\n",
      "        [ 0.9137255 ,  0.94509804,  0.9372549 ]]], dtype=float32)]\n",
      "['with_mask', 'with_mask', 'with_mask', 'with_mask', 'with_mask']\n"
     ]
    }
   ],
   "source": [
    "print(data[:5])\n",
    "print(labels[:5])"
   ]
  },
  {
   "cell_type": "code",
   "execution_count": 7,
   "metadata": {},
   "outputs": [
    {
     "data": {
      "text/plain": [
       "array([[1., 0.],\n",
       "       [1., 0.],\n",
       "       [1., 0.],\n",
       "       [1., 0.],\n",
       "       [1., 0.]], dtype=float32)"
      ]
     },
     "execution_count": 7,
     "metadata": {},
     "output_type": "execute_result"
    }
   ],
   "source": [
    "lb = LabelBinarizer()\n",
    "labels = lb.fit_transform(labels)\n",
    "labels = to_categorical(labels)\n",
    "labels[:5]"
   ]
  },
  {
   "cell_type": "code",
   "execution_count": 8,
   "metadata": {},
   "outputs": [],
   "source": [
    "data = np.array(data, dtype=\"float32\")\n",
    "labels = np.array(labels)\n",
    "\n",
    "(trainX, testX, trainY, testY) = train_test_split(data, labels,test_size=0.1, stratify=labels, random_state=42)"
   ]
  },
  {
   "cell_type": "code",
   "execution_count": 9,
   "metadata": {},
   "outputs": [
    {
     "name": "stdout",
     "output_type": "stream",
     "text": [
      "WARNING:tensorflow:`input_shape` is undefined or non-square, or `rows` is not in [96, 128, 160, 192, 224]. Weights for input shape (224, 224) will be loaded as the default.\n",
      "Downloading data from https://storage.googleapis.com/tensorflow/keras-applications/mobilenet_v2/mobilenet_v2_weights_tf_dim_ordering_tf_kernels_1.0_224_no_top.h5\n",
      "9412608/9406464 [==============================] - 8s 1us/step\n"
     ]
    }
   ],
   "source": [
    "baseModel = MobileNetV2(weights=\"imagenet\", include_top=False,input_tensor=Input(shape=(224, 224, 3)))"
   ]
  },
  {
   "cell_type": "code",
   "execution_count": 10,
   "metadata": {},
   "outputs": [],
   "source": [
    "headModel = baseModel.output\n",
    "headModel = AveragePooling2D(pool_size=(7, 7))(headModel)\n",
    "headModel = Flatten(name=\"flatten\")(headModel)\n",
    "headModel = Dense(128, activation=\"relu\")(headModel)\n",
    "headModel = Dropout(0.5)(headModel)\n",
    "headModel = Dense(2, activation=\"softmax\")(headModel)"
   ]
  },
  {
   "cell_type": "code",
   "execution_count": 11,
   "metadata": {},
   "outputs": [],
   "source": [
    "model = Model(inputs=baseModel.input, outputs=headModel)"
   ]
  },
  {
   "cell_type": "code",
   "execution_count": 12,
   "metadata": {},
   "outputs": [],
   "source": [
    "for layer in baseModel.layers:\n",
    "    layer.trainable = False"
   ]
  },
  {
   "cell_type": "code",
   "execution_count": 13,
   "metadata": {},
   "outputs": [],
   "source": [
    "INIT_LR = 1e-4\n",
    "EPOCHS = 20\n",
    "BS = 32"
   ]
  },
  {
   "cell_type": "code",
   "execution_count": 14,
   "metadata": {},
   "outputs": [],
   "source": [
    "opt = Adam(lr=INIT_LR, decay=INIT_LR / EPOCHS)\n",
    "model.compile(loss=\"binary_crossentropy\", optimizer=opt,metrics=[\"accuracy\"])\n"
   ]
  },
  {
   "cell_type": "code",
   "execution_count": 15,
   "metadata": {},
   "outputs": [
    {
     "name": "stdout",
     "output_type": "stream",
     "text": [
      "Epoch 1/20\n",
      "107/107 [==============================] - 80s 750ms/step - loss: 0.3111 - accuracy: 0.8744 - val_loss: 0.0746 - val_accuracy: 0.9818\n",
      "Epoch 2/20\n",
      "107/107 [==============================] - 76s 709ms/step - loss: 0.0904 - accuracy: 0.9710 - val_loss: 0.0482 - val_accuracy: 0.9870\n",
      "Epoch 3/20\n",
      "107/107 [==============================] - 78s 727ms/step - loss: 0.0602 - accuracy: 0.9795 - val_loss: 0.0413 - val_accuracy: 0.9896\n",
      "Epoch 4/20\n",
      "107/107 [==============================] - 81s 752ms/step - loss: 0.0437 - accuracy: 0.9871 - val_loss: 0.0369 - val_accuracy: 0.9896\n",
      "Epoch 5/20\n",
      "107/107 [==============================] - 83s 780ms/step - loss: 0.0343 - accuracy: 0.9889 - val_loss: 0.0346 - val_accuracy: 0.9896\n",
      "Epoch 6/20\n",
      "107/107 [==============================] - 84s 790ms/step - loss: 0.0286 - accuracy: 0.9912 - val_loss: 0.0327 - val_accuracy: 0.9922\n",
      "Epoch 7/20\n",
      "107/107 [==============================] - 81s 753ms/step - loss: 0.0240 - accuracy: 0.9933 - val_loss: 0.0331 - val_accuracy: 0.9896\n",
      "Epoch 8/20\n",
      "107/107 [==============================] - 81s 755ms/step - loss: 0.0204 - accuracy: 0.9941 - val_loss: 0.0301 - val_accuracy: 0.9896\n",
      "Epoch 9/20\n",
      "107/107 [==============================] - 79s 741ms/step - loss: 0.0163 - accuracy: 0.9959 - val_loss: 0.0352 - val_accuracy: 0.9896\n",
      "Epoch 10/20\n",
      "107/107 [==============================] - 78s 726ms/step - loss: 0.0153 - accuracy: 0.9965 - val_loss: 0.0335 - val_accuracy: 0.9896\n",
      "Epoch 11/20\n",
      "107/107 [==============================] - 77s 717ms/step - loss: 0.0134 - accuracy: 0.9956 - val_loss: 0.0297 - val_accuracy: 0.9922\n",
      "Epoch 12/20\n",
      "107/107 [==============================] - 75s 702ms/step - loss: 0.0127 - accuracy: 0.9965 - val_loss: 0.0314 - val_accuracy: 0.9896\n",
      "Epoch 13/20\n",
      "107/107 [==============================] - 73s 686ms/step - loss: 0.0117 - accuracy: 0.9968 - val_loss: 0.0318 - val_accuracy: 0.9922\n",
      "Epoch 14/20\n",
      "107/107 [==============================] - 73s 685ms/step - loss: 0.0078 - accuracy: 0.9982 - val_loss: 0.0305 - val_accuracy: 0.9922\n",
      "Epoch 15/20\n",
      "107/107 [==============================] - 73s 685ms/step - loss: 0.0119 - accuracy: 0.9974 - val_loss: 0.0296 - val_accuracy: 0.9896\n",
      "Epoch 16/20\n",
      "107/107 [==============================] - 74s 687ms/step - loss: 0.0072 - accuracy: 0.9980 - val_loss: 0.0306 - val_accuracy: 0.9922\n",
      "Epoch 17/20\n",
      "107/107 [==============================] - 74s 690ms/step - loss: 0.0069 - accuracy: 0.9988 - val_loss: 0.0307 - val_accuracy: 0.9896\n",
      "Epoch 18/20\n",
      "107/107 [==============================] - 74s 688ms/step - loss: 0.0053 - accuracy: 0.9994 - val_loss: 0.0333 - val_accuracy: 0.9896\n",
      "Epoch 19/20\n",
      "107/107 [==============================] - 81s 753ms/step - loss: 0.0048 - accuracy: 0.9991 - val_loss: 0.0317 - val_accuracy: 0.9896\n",
      "Epoch 20/20\n",
      "107/107 [==============================] - 80s 749ms/step - loss: 0.0053 - accuracy: 0.9994 - val_loss: 0.0321 - val_accuracy: 0.9896\n"
     ]
    }
   ],
   "source": [
    "H = model.fit(\n",
    "        trainX, trainY, batch_size=BS,\n",
    "        steps_per_epoch=len(trainX) // BS,\n",
    "        validation_data=(testX, testY),\n",
    "        validation_steps=len(testX) // BS,\n",
    "        epochs=EPOCHS)"
   ]
  },
  {
   "cell_type": "code",
   "execution_count": 16,
   "metadata": {},
   "outputs": [],
   "source": [
    "predIdxs = model.predict(testX, batch_size=BS)"
   ]
  },
  {
   "cell_type": "code",
   "execution_count": 17,
   "metadata": {},
   "outputs": [],
   "source": [
    "predIdxs = np.argmax(predIdxs, axis=1)"
   ]
  },
  {
   "cell_type": "code",
   "execution_count": 18,
   "metadata": {},
   "outputs": [
    {
     "name": "stdout",
     "output_type": "stream",
     "text": [
      "              precision    recall  f1-score   support\n",
      "\n",
      "   with_mask       0.98      0.99      0.99       192\n",
      "without_mask       0.99      0.98      0.99       192\n",
      "\n",
      "    accuracy                           0.99       384\n",
      "   macro avg       0.99      0.99      0.99       384\n",
      "weighted avg       0.99      0.99      0.99       384\n",
      "\n"
     ]
    }
   ],
   "source": [
    "print(classification_report(testY.argmax(axis=1), predIdxs,target_names=lb.classes_))"
   ]
  },
  {
   "cell_type": "code",
   "execution_count": 19,
   "metadata": {},
   "outputs": [
    {
     "data": {
      "image/png": "[encoded data removed]",
      "text/plain": [
       "<Figure size 432x288 with 1 Axes>"
      ]
     },
     "metadata": {},
     "output_type": "display_data"
    }
   ],
   "source": [
    "N = EPOCHS\n",
    "plt.style.use(\"ggplot\")\n",
    "plt.figure()\n",
    "plt.plot(np.arange(0, N), H.history[\"loss\"], label=\"train_loss\")\n",
    "plt.plot(np.arange(0, N), H.history[\"val_loss\"], label=\"val_loss\")\n",
    "plt.plot(np.arange(0, N), H.history[\"accuracy\"], label=\"train_acc\")\n",
    "plt.plot(np.arange(0, N), H.history[\"val_accuracy\"], label=\"val_acc\")\n",
    "plt.title(\"Training Loss and Accuracy\")\n",
    "plt.xlabel(\"Epoch #\")\n",
    "plt.ylabel(\"Loss/Accuracy\")\n",
    "plt.legend(loc=\"lower left\")\n",
    "plt.savefig(\"plot.png\")"
   ]
  },
  {
   "cell_type": "code",
   "execution_count": 20,
   "metadata": {},
   "outputs": [],
   "source": [
    "model.save(\"mask_detector.model\", save_format=\"h5\")"
   ]
  },
  {
   "cell_type": "code",
   "execution_count": null,
   "metadata": {},
   "outputs": [],
   "source": []
  }
 ],
 "metadata": {
  "kernelspec": {
   "display_name": "Python 3",
   "language": "python",
   "name": "python3"
  },
  "language_info": {
   "codemirror_mode": {
    "name": "ipython",
    "version": 3
   },
   "file_extension": ".py",
   "mimetype": "text/x-python",
   "name": "python",
   "nbconvert_exporter": "python",
   "pygments_lexer": "ipython3",
   "version": "3.8.2"
  }
 },
 "nbformat": 4,
 "nbformat_minor": 4
}
